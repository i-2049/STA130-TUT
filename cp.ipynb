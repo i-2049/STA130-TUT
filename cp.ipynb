{
 "cells": [
  {
   "cell_type": "markdown",
   "id": "8146cc79",
   "metadata": {},
   "source": [
    "**Proposal 1:**\n",
    "**Question**: `Does the frequency of physical touch social interactions correlate with better self reported mental health? \n",
    "This question explores the mean self-reported mental health score across varying levels of physical touch social interactions frequencies (hugs, kissing, sex). `\n",
    "\n",
    "**Variables I plan to explore**: (2022_cross data)\n",
    "CONNECTION_activities_hug_p3m - Frequency of hugs over the past three months.\n",
    "CONNECTION_activities_kissed_p3m - Frequency of kisses over the past three months.\n",
    "CONNECTION_activities_sex_p3m - Frequency of sexual activity over the past three months.\n",
    "WELLNESS_self_rated_mental_health - Categorical self-rated mental health\n",
    "\n",
    "These variables will provide an inference onto how much physical connections affect people’s self reported mental health. I think the best way to visualise these variables would be through box plots, so that you can see the statistical values of each of the variables, compared to each other. Bar charts would also nicely visualise the differences between each of the variables in relation to each other and to the self rated mental health. \n",
    "\n",
    "I will use simulation to analyse this data, and my null hypothesis will be: there is no significant association between the frequency of physical touch interactions (hugging, kissing, sexual activity) and self-reported mental health ratings. I will use the Chi-Square Test of Independence to check if there is a relationship between the variables. It will be a good analysis to use since it utilises categorical data in assessing association. If the null hypothesis fails, then there is reasonable evidence to conclude there is some relationship between frequency of physical touch interactions and self reported mental health. I predict that there will be a correlation between 0.3-0.5 for this data.\n",
    "\n",
    "**Proposal 2**:\n",
    "**Question**:  `Does the frequency of feeling nervous, anxious or on edge correlate with burn out measurement?`\n",
    "\n",
    "**Variables I plan to explore**:  (2021_cross data)\n",
    "WELLNESS_gad_anxious - Frequency of feeling nervous, anxious or on edge\n",
    "WELLNESS_malach_pines_burnout_measure_tired - Categorical data, overall rating on life, how the person thinks of their life\n",
    "\n",
    "I have chosen to compare the frequency of feelings of anxiety with burnout measurement because I think it is important to also look at how a negative mental health can be associated with another mental health issue. The best way to visualise this would be to use a heatmap to show the layers of data that are within the two variables and their relationship. Specifically a heatmap would allow the visualisation of a categorical frequency and strictly categorical data. It would also be useful to find what the average frequency of feeling of anxiety is for the person with their specific category of burnout. Box plots would also be useful in comparing each of the burnout categories with levels of average anxiousness, and other statistics, such as mean, and would visualise a spread of the data. \n",
    "\n",
    "I will use contingency tables to assess the correlation of the two variables. I believe that there will be a correlation between 0.5-0.7. I would note whether the data is independent or dependent, based on the frequencies. I would use the Chi-Square test calculation to see whether there is a high association between WELLNESS_gad_anxious and WELLNESS_malach_pines_burnout_measure_tired. And from that I would calculate the p-value and assess it based on its respective category.  My null hypothesis would assume that there is no correlation between the variables.\n",
    "\n",
    "**Proposal 3**: \n",
    "**Question**: `Does the frequency of talking to people correlate with better self reported mental health?`\n",
    "\n",
    "**Variables I plan to use**:  (2021_cross data)\n",
    "CONNECTION_activities_talked_day_p3m - Frequency, how often a person has talked to people over an interval\n",
    "WELLNESS_self_rated_mental_health - discrete data (from 1-5) categorical, self assessment of mental health \n",
    "\n",
    "I am choosing these variables to explore if people’s self rated mental health can be a reflection of their connections to other people. I would like to check if there is any correlation between the data, and if it is negatively or positively correlated.  To represent this data, and explore the different subcategories within intersections of the data, I will use a stacked bar chart. One bar for each of the categories of mental health, and then each segment of each bar would be a representation of the population of people for each of the frequencies of interaction. I think that analysing the mode of the data would be useful for the categories, in correlation with how often it appears, taking the mode and then the percentage of the modes in each of their respective categories. I  predict that there will be little to no correlation between the two variables. \n"
   ]
  },
  {
   "cell_type": "code",
   "execution_count": null,
   "id": "c4e0b70a",
   "metadata": {},
   "outputs": [],
   "source": []
  }
 ],
 "metadata": {
  "kernelspec": {
   "display_name": "Python 3 (ipykernel)",
   "language": "python",
   "name": "python3"
  },
  "language_info": {
   "codemirror_mode": {
    "name": "ipython",
    "version": 3
   },
   "file_extension": ".py",
   "mimetype": "text/x-python",
   "name": "python",
   "nbconvert_exporter": "python",
   "pygments_lexer": "ipython3",
   "version": "3.11.6"
  }
 },
 "nbformat": 4,
 "nbformat_minor": 5
}
